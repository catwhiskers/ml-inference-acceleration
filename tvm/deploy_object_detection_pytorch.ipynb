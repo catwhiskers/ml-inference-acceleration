{
 "cells": [
  {
   "cell_type": "code",
   "execution_count": 1,
   "metadata": {},
   "outputs": [
    {
     "name": "stderr",
     "output_type": "stream",
     "text": [
      "Matplotlib is building the font cache; this may take a moment.\n"
     ]
    }
   ],
   "source": [
    "%matplotlib inline"
   ]
  },
  {
   "cell_type": "markdown",
   "metadata": {},
   "source": [
    "\n",
    "Compile PyTorch Object Detection Models\n",
    "=======================================\n",
    "This article is an introductory tutorial to deploy PyTorch object\n",
    "detection models with Relay VM.\n",
    "\n",
    "For us to begin with, PyTorch should be installed.\n",
    "TorchVision is also required since we will be using it as our model zoo.\n",
    "\n",
    "A quick solution is to install via pip\n",
    "\n",
    ".. code-block:: bash\n",
    "\n",
    "    pip install torch==1.7.0\n",
    "    pip install torchvision==0.8.1\n",
    "\n",
    "or please refer to official site\n",
    "https://pytorch.org/get-started/locally/\n",
    "\n",
    "PyTorch versions should be backwards compatible but should be used\n",
    "with the proper TorchVision version.\n",
    "\n",
    "Currently, TVM supports PyTorch 1.7 and 1.4. Other versions may\n",
    "be unstable.\n",
    "\n"
   ]
  },
  {
   "cell_type": "code",
   "execution_count": 3,
   "metadata": {},
   "outputs": [
    {
     "name": "stdout",
     "output_type": "stream",
     "text": [
      "Requirement already satisfied: opencv-python in /home/ubuntu/anaconda3/lib/python3.7/site-packages (4.5.1.48)\n",
      "Requirement already satisfied: numpy>=1.14.5 in /home/ubuntu/anaconda3/lib/python3.7/site-packages (from opencv-python) (1.19.2)\n",
      "Collecting torch==1.7.0\n",
      "  Downloading torch-1.7.0-cp37-cp37m-manylinux1_x86_64.whl (776.7 MB)\n",
      "\u001b[K     |████████████████████████████████| 776.7 MB 997 bytes/s  0:00:0101\n",
      "\u001b[?25hRequirement already satisfied: future in /home/ubuntu/anaconda3/lib/python3.7/site-packages (from torch==1.7.0) (0.18.2)\n",
      "Collecting dataclasses\n",
      "  Downloading dataclasses-0.6-py3-none-any.whl (14 kB)\n",
      "Requirement already satisfied: typing-extensions in /home/ubuntu/anaconda3/lib/python3.7/site-packages (from torch==1.7.0) (3.7.4.3)\n",
      "Requirement already satisfied: numpy in /home/ubuntu/anaconda3/lib/python3.7/site-packages (from torch==1.7.0) (1.19.2)\n",
      "Installing collected packages: dataclasses, torch\n",
      "Successfully installed dataclasses-0.6 torch-1.7.0\n",
      "Collecting torchvision==0.8.1\n",
      "  Downloading torchvision-0.8.1-cp37-cp37m-manylinux1_x86_64.whl (12.7 MB)\n",
      "\u001b[K     |████████████████████████████████| 12.7 MB 20.5 MB/s eta 0:00:01\n",
      "\u001b[?25hRequirement already satisfied: torch==1.7.0 in /home/ubuntu/anaconda3/lib/python3.7/site-packages (from torchvision==0.8.1) (1.7.0)\n",
      "Requirement already satisfied: pillow>=4.1.1 in /home/ubuntu/anaconda3/lib/python3.7/site-packages (from torchvision==0.8.1) (8.1.0)\n",
      "Requirement already satisfied: numpy in /home/ubuntu/anaconda3/lib/python3.7/site-packages (from torchvision==0.8.1) (1.19.2)\n",
      "Requirement already satisfied: dataclasses in /home/ubuntu/anaconda3/lib/python3.7/site-packages (from torch==1.7.0->torchvision==0.8.1) (0.6)\n",
      "Requirement already satisfied: future in /home/ubuntu/anaconda3/lib/python3.7/site-packages (from torch==1.7.0->torchvision==0.8.1) (0.18.2)\n",
      "Requirement already satisfied: typing-extensions in /home/ubuntu/anaconda3/lib/python3.7/site-packages (from torch==1.7.0->torchvision==0.8.1) (3.7.4.3)\n",
      "Installing collected packages: torchvision\n",
      "Successfully installed torchvision-0.8.1\n"
     ]
    }
   ],
   "source": [
    "!pip install opencv-python\n",
    "!pip install torch==1.7.0\n",
    "!pip install torchvision==0.8.1"
   ]
  },
  {
   "cell_type": "code",
   "execution_count": 4,
   "metadata": {},
   "outputs": [],
   "source": [
    "import tvm\n",
    "from tvm import relay\n",
    "from tvm import relay\n",
    "from tvm.runtime.vm import VirtualMachine\n",
    "from tvm.contrib.download import download\n",
    "\n",
    "import numpy as np\n",
    "import cv2\n",
    "\n",
    "# PyTorch imports\n",
    "import torch\n",
    "import torchvision"
   ]
  },
  {
   "cell_type": "markdown",
   "metadata": {},
   "source": [
    "Load pre-trained maskrcnn from torchvision and do tracing\n",
    "---------------------------------------------------------\n",
    "\n"
   ]
  },
  {
   "cell_type": "code",
   "execution_count": 5,
   "metadata": {},
   "outputs": [
    {
     "name": "stderr",
     "output_type": "stream",
     "text": [
      "Downloading: \"https://download.pytorch.org/models/maskrcnn_resnet50_fpn_coco-bf2d0c1e.pth\" to /home/ubuntu/.cache/torch/hub/checkpoints/maskrcnn_resnet50_fpn_coco-bf2d0c1e.pth\n"
     ]
    },
    {
     "data": {
      "application/vnd.jupyter.widget-view+json": {
       "model_id": "2a35127b8d5f44b9909f8b2475216b2f",
       "version_major": 2,
       "version_minor": 0
      },
      "text/plain": [
       "HBox(children=(FloatProgress(value=0.0, max=178090079.0), HTML(value='')))"
      ]
     },
     "metadata": {},
     "output_type": "display_data"
    },
    {
     "name": "stdout",
     "output_type": "stream",
     "text": [
      "\n"
     ]
    },
    {
     "name": "stderr",
     "output_type": "stream",
     "text": [
      "/home/ubuntu/anaconda3/lib/python3.7/site-packages/torch/tensor.py:593: RuntimeWarning: Iterating over a tensor might cause the trace to be incorrect. Passing a tensor of different shape won't change the number of iterations executed (and might lead to errors or silently give incorrect results).\n",
      "  'incorrect results).', category=RuntimeWarning)\n",
      "/home/ubuntu/anaconda3/lib/python3.7/site-packages/torch/nn/functional.py:3123: UserWarning: To copy construct from a tensor, it is recommended to use sourceTensor.clone().detach() or sourceTensor.clone().detach().requires_grad_(True), rather than torch.tensor(sourceTensor).\n",
      "  dtype=torch.float32)).float())) for i in range(dim)]\n",
      "/home/ubuntu/anaconda3/lib/python3.7/site-packages/torchvision/models/detection/anchor_utils.py:147: UserWarning: To copy construct from a tensor, it is recommended to use sourceTensor.clone().detach() or sourceTensor.clone().detach().requires_grad_(True), rather than torch.tensor(sourceTensor).\n",
      "  torch.tensor(image_size[1] // g[1], dtype=torch.int64, device=device)] for g in grid_sizes]\n",
      "/home/ubuntu/anaconda3/lib/python3.7/site-packages/torchvision/ops/boxes.py:128: UserWarning: To copy construct from a tensor, it is recommended to use sourceTensor.clone().detach() or sourceTensor.clone().detach().requires_grad_(True), rather than torch.tensor(sourceTensor).\n",
      "  boxes_x = torch.min(boxes_x, torch.tensor(width, dtype=boxes.dtype, device=boxes.device))\n",
      "/home/ubuntu/anaconda3/lib/python3.7/site-packages/torchvision/ops/boxes.py:130: UserWarning: To copy construct from a tensor, it is recommended to use sourceTensor.clone().detach() or sourceTensor.clone().detach().requires_grad_(True), rather than torch.tensor(sourceTensor).\n",
      "  boxes_y = torch.min(boxes_y, torch.tensor(height, dtype=boxes.dtype, device=boxes.device))\n",
      "/home/ubuntu/anaconda3/lib/python3.7/site-packages/torchvision/models/detection/transform.py:271: UserWarning: To copy construct from a tensor, it is recommended to use sourceTensor.clone().detach() or sourceTensor.clone().detach().requires_grad_(True), rather than torch.tensor(sourceTensor).\n",
      "  for s, s_orig in zip(new_size, original_size)\n",
      "/home/ubuntu/anaconda3/lib/python3.7/site-packages/torchvision/models/detection/roi_heads.py:372: UserWarning: To copy construct from a tensor, it is recommended to use sourceTensor.clone().detach() or sourceTensor.clone().detach().requires_grad_(True), rather than torch.tensor(sourceTensor).\n",
      "  return torch.tensor(M + 2 * padding).to(torch.float32) / torch.tensor(M).to(torch.float32)\n"
     ]
    }
   ],
   "source": [
    "in_size = 300\n",
    "\n",
    "input_shape = (1, 3, in_size, in_size)\n",
    "\n",
    "\n",
    "def do_trace(model, inp):\n",
    "    model_trace = torch.jit.trace(model, inp)\n",
    "    model_trace.eval()\n",
    "    return model_trace\n",
    "\n",
    "\n",
    "def dict_to_tuple(out_dict):\n",
    "    if \"masks\" in out_dict.keys():\n",
    "        return out_dict[\"boxes\"], out_dict[\"scores\"], out_dict[\"labels\"], out_dict[\"masks\"]\n",
    "    return out_dict[\"boxes\"], out_dict[\"scores\"], out_dict[\"labels\"]\n",
    "\n",
    "\n",
    "class TraceWrapper(torch.nn.Module):\n",
    "    def __init__(self, model):\n",
    "        super().__init__()\n",
    "        self.model = model\n",
    "\n",
    "    def forward(self, inp):\n",
    "        out = self.model(inp)\n",
    "        return dict_to_tuple(out[0])\n",
    "\n",
    "\n",
    "model_func = torchvision.models.detection.maskrcnn_resnet50_fpn\n",
    "model = TraceWrapper(model_func(pretrained=True))\n",
    "\n",
    "model.eval()\n",
    "inp = torch.Tensor(np.random.uniform(0.0, 250.0, size=(1, 3, in_size, in_size)))\n",
    "\n",
    "with torch.no_grad():\n",
    "    out = model(inp)\n",
    "    script_module = do_trace(model, inp)"
   ]
  },
  {
   "cell_type": "markdown",
   "metadata": {},
   "source": [
    "Download a test image and pre-process\n",
    "-------------------------------------\n",
    "\n"
   ]
  },
  {
   "cell_type": "code",
   "execution_count": 6,
   "metadata": {},
   "outputs": [
    {
     "name": "stdout",
     "output_type": "stream",
     "text": [
      "Downloading from url https://raw.githubusercontent.com/dmlc/web-data/master/gluoncv/detection/street_small.jpg to test_street_small.jpg\n",
      "...100%, 0.12 MB, 936 KB/s, 0 seconds passed\n"
     ]
    }
   ],
   "source": [
    "img_path = \"test_street_small.jpg\"\n",
    "img_url = (\n",
    "    \"https://raw.githubusercontent.com/dmlc/web-data/\" \"master/gluoncv/detection/street_small.jpg\"\n",
    ")\n",
    "download(img_url, img_path)\n",
    "\n",
    "img = cv2.imread(img_path).astype(\"float32\")\n",
    "img = cv2.resize(img, (in_size, in_size))\n",
    "img = cv2.cvtColor(img, cv2.COLOR_BGR2RGB)\n",
    "img = np.transpose(img / 255.0, [2, 0, 1])\n",
    "img = np.expand_dims(img, axis=0)"
   ]
  },
  {
   "cell_type": "markdown",
   "metadata": {},
   "source": [
    "Import the graph to Relay\n",
    "-------------------------\n",
    "\n"
   ]
  },
  {
   "cell_type": "code",
   "execution_count": 7,
   "metadata": {},
   "outputs": [
    {
     "name": "stdout",
     "output_type": "stream",
     "text": [
      "...100%, 0.02 MB, 240 KB/s, 0 seconds passed\n"
     ]
    },
    {
     "name": "stderr",
     "output_type": "stream",
     "text": [
      "WARNING:root:Untyped Tensor found, assume it is float32\n",
      "WARNING:root:Untyped Tensor found, assume it is float32\n",
      "WARNING:root:Untyped Tensor found, assume it is float32\n",
      "WARNING:root:Untyped Tensor found, assume it is float32\n",
      "WARNING:root:Untyped Tensor found, assume it is float32\n",
      "WARNING:root:Untyped Tensor found, assume it is float32\n",
      "WARNING:root:Untyped Tensor found, assume it is float32\n",
      "WARNING:root:Untyped Tensor found, assume it is float32\n",
      "WARNING:root:Untyped Tensor found, assume it is float32\n",
      "WARNING:root:Untyped Tensor found, assume it is float32\n",
      "WARNING:root:Untyped Tensor found, assume it is float32\n",
      "WARNING:root:Untyped Tensor found, assume it is float32\n",
      "WARNING:root:Untyped Tensor found, assume it is float32\n",
      "WARNING:root:Untyped Tensor found, assume it is float32\n",
      "WARNING:root:Untyped Tensor found, assume it is float32\n",
      "WARNING:root:Untyped Tensor found, assume it is float32\n",
      "WARNING:root:Untyped Tensor found, assume it is float32\n",
      "WARNING:root:Untyped Tensor found, assume it is float32\n",
      "WARNING:root:Untyped Tensor found, assume it is float32\n",
      "WARNING:root:Untyped Tensor found, assume it is float32\n",
      "WARNING:root:Untyped Tensor found, assume it is float32\n",
      "WARNING:root:Untyped Tensor found, assume it is float32\n",
      "WARNING:root:Untyped Tensor found, assume it is float32\n",
      "WARNING:root:Untyped Tensor found, assume it is float32\n",
      "WARNING:root:Untyped Tensor found, assume it is float32\n",
      "WARNING:root:Untyped Tensor found, assume it is float32\n",
      "WARNING:root:Untyped Tensor found, assume it is float32\n",
      "WARNING:root:Untyped Tensor found, assume it is float32\n",
      "WARNING:root:Untyped Tensor found, assume it is float32\n",
      "WARNING:root:Untyped Tensor found, assume it is float32\n",
      "WARNING:root:Untyped Tensor found, assume it is float32\n",
      "WARNING:root:Untyped Tensor found, assume it is float32\n",
      "WARNING:root:Untyped Tensor found, assume it is float32\n",
      "WARNING:root:Untyped Tensor found, assume it is float32\n",
      "WARNING:root:Untyped Tensor found, assume it is float32\n",
      "WARNING:root:Untyped Tensor found, assume it is float32\n",
      "WARNING:root:Untyped Tensor found, assume it is float32\n",
      "WARNING:root:Untyped Tensor found, assume it is float32\n",
      "WARNING:root:Untyped Tensor found, assume it is float32\n",
      "WARNING:root:Untyped Tensor found, assume it is float32\n",
      "WARNING:root:Untyped Tensor found, assume it is float32\n",
      "WARNING:root:Untyped Tensor found, assume it is float32\n",
      "WARNING:root:Untyped Tensor found, assume it is float32\n",
      "WARNING:root:Untyped Tensor found, assume it is float32\n",
      "WARNING:root:Untyped Tensor found, assume it is float32\n",
      "WARNING:root:Untyped Tensor found, assume it is float32\n",
      "WARNING:root:Untyped Tensor found, assume it is float32\n",
      "WARNING:root:Untyped Tensor found, assume it is float32\n",
      "WARNING:root:Untyped Tensor found, assume it is float32\n",
      "WARNING:root:Untyped Tensor found, assume it is float32\n",
      "WARNING:root:Untyped Tensor found, assume it is float32\n",
      "WARNING:root:Untyped Tensor found, assume it is float32\n",
      "WARNING:root:Untyped Tensor found, assume it is float32\n",
      "WARNING:root:Untyped Tensor found, assume it is float32\n",
      "WARNING:root:Untyped Tensor found, assume it is float32\n",
      "WARNING:root:Untyped Tensor found, assume it is float32\n",
      "WARNING:root:Untyped Tensor found, assume it is float32\n",
      "WARNING:root:Untyped Tensor found, assume it is float32\n",
      "WARNING:root:Untyped Tensor found, assume it is float32\n",
      "WARNING:root:Untyped Tensor found, assume it is float32\n",
      "WARNING:root:Untyped Tensor found, assume it is float32\n",
      "WARNING:root:Untyped Tensor found, assume it is float32\n",
      "WARNING:root:Untyped Tensor found, assume it is float32\n",
      "WARNING:root:Untyped Tensor found, assume it is float32\n",
      "WARNING:root:Untyped Tensor found, assume it is float32\n",
      "WARNING:root:Untyped Tensor found, assume it is float32\n",
      "WARNING:root:Untyped Tensor found, assume it is float32\n",
      "WARNING:root:Untyped Tensor found, assume it is float32\n",
      "WARNING:root:Untyped Tensor found, assume it is float32\n",
      "WARNING:root:Untyped Tensor found, assume it is float32\n",
      "WARNING:root:Untyped Tensor found, assume it is float32\n",
      "WARNING:root:Untyped Tensor found, assume it is float32\n",
      "WARNING:root:Untyped Tensor found, assume it is float32\n",
      "WARNING:root:Untyped Tensor found, assume it is float32\n",
      "WARNING:root:Untyped Tensor found, assume it is float32\n",
      "WARNING:root:Untyped Tensor found, assume it is float32\n",
      "WARNING:root:Untyped Tensor found, assume it is float32\n",
      "WARNING:root:Untyped Tensor found, assume it is float32\n",
      "WARNING:root:Untyped Tensor found, assume it is float32\n",
      "WARNING:root:Untyped Tensor found, assume it is float32\n",
      "WARNING:root:Untyped Tensor found, assume it is float32\n",
      "WARNING:root:Untyped Tensor found, assume it is float32\n",
      "WARNING:root:Untyped Tensor found, assume it is float32\n",
      "WARNING:root:Untyped Tensor found, assume it is float32\n",
      "WARNING:root:Untyped Tensor found, assume it is float32\n",
      "WARNING:root:Untyped Tensor found, assume it is float32\n",
      "WARNING:root:Untyped Tensor found, assume it is float32\n",
      "WARNING:root:Untyped Tensor found, assume it is float32\n",
      "WARNING:root:Untyped Tensor found, assume it is float32\n",
      "WARNING:root:Untyped Tensor found, assume it is float32\n",
      "WARNING:root:Untyped Tensor found, assume it is float32\n",
      "WARNING:root:Untyped Tensor found, assume it is float32\n",
      "WARNING:root:Untyped Tensor found, assume it is float32\n",
      "WARNING:root:Untyped Tensor found, assume it is float32\n"
     ]
    }
   ],
   "source": [
    "input_name = \"input0\"\n",
    "shape_list = [(input_name, input_shape)]\n",
    "mod, params = relay.frontend.from_pytorch(script_module, shape_list)"
   ]
  },
  {
   "cell_type": "markdown",
   "metadata": {},
   "source": [
    "Compile with Relay VM\n",
    "---------------------\n",
    "Note: Currently only CPU target is supported. For x86 target, it is\n",
    "highly recommended to build TVM with Intel MKL and Intel OpenMP to get\n",
    "best performance, due to the existence of large dense operator in\n",
    "torchvision rcnn models.\n",
    "\n"
   ]
  },
  {
   "cell_type": "code",
   "execution_count": 8,
   "metadata": {},
   "outputs": [
    {
     "name": "stderr",
     "output_type": "stream",
     "text": [
      "WARNING:autotvm:Cannot find config for target=llvm -keys=cpu -link-params=0, workload=('conv2d_NCHWc.x86', ('TENSOR', (1, 3, 800, 800), 'float32'), ('TENSOR', (64, 3, 7, 7), 'float32'), (2, 2), (3, 3, 3, 3), (1, 1), 'NCHW', 'NCHW', 'float32'). A fallback configuration is used, which may bring great performance regression.\n",
      "WARNING:autotvm:Cannot find config for target=llvm -keys=cpu -link-params=0, workload=('conv2d_NCHWc.x86', ('TENSOR', (1, 64, 200, 200), 'float32'), ('TENSOR', (64, 64, 1, 1), 'float32'), (1, 1), (0, 0, 0, 0), (1, 1), 'NCHW', 'NCHW', 'float32'). A fallback configuration is used, which may bring great performance regression.\n",
      "WARNING:autotvm:Cannot find config for target=llvm -keys=cpu -link-params=0, workload=('conv2d_NCHWc.x86', ('TENSOR', (1, 64, 200, 200), 'float32'), ('TENSOR', (64, 64, 3, 3), 'float32'), (1, 1), (1, 1, 1, 1), (1, 1), 'NCHW', 'NCHW', 'float32'). A fallback configuration is used, which may bring great performance regression.\n",
      "WARNING:autotvm:Cannot find config for target=llvm -keys=cpu -link-params=0, workload=('conv2d_NCHWc.x86', ('TENSOR', (1, 64, 200, 200), 'float32'), ('TENSOR', (256, 64, 1, 1), 'float32'), (1, 1), (0, 0, 0, 0), (1, 1), 'NCHW', 'NCHW', 'float32'). A fallback configuration is used, which may bring great performance regression.\n",
      "WARNING:autotvm:Cannot find config for target=llvm -keys=cpu -link-params=0, workload=('conv2d_NCHWc.x86', ('TENSOR', (1, 256, 200, 200), 'float32'), ('TENSOR', (64, 256, 1, 1), 'float32'), (1, 1), (0, 0, 0, 0), (1, 1), 'NCHW', 'NCHW', 'float32'). A fallback configuration is used, which may bring great performance regression.\n",
      "WARNING:autotvm:Cannot find config for target=llvm -keys=cpu -link-params=0, workload=('conv2d_NCHWc.x86', ('TENSOR', (1, 256, 200, 200), 'float32'), ('TENSOR', (256, 256, 1, 1), 'float32'), (1, 1), (0, 0, 0, 0), (1, 1), 'NCHW', 'NCHW', 'float32'). A fallback configuration is used, which may bring great performance regression.\n",
      "WARNING:autotvm:Cannot find config for target=llvm -keys=cpu -link-params=0, workload=('conv2d_NCHWc.x86', ('TENSOR', (1, 256, 200, 200), 'float32'), ('TENSOR', (128, 256, 1, 1), 'float32'), (1, 1), (0, 0, 0, 0), (1, 1), 'NCHW', 'NCHW', 'float32'). A fallback configuration is used, which may bring great performance regression.\n",
      "WARNING:autotvm:Cannot find config for target=llvm -keys=cpu -link-params=0, workload=('conv2d_NCHWc.x86', ('TENSOR', (1, 128, 200, 200), 'float32'), ('TENSOR', (128, 128, 3, 3), 'float32'), (2, 2), (1, 1, 1, 1), (1, 1), 'NCHW', 'NCHW', 'float32'). A fallback configuration is used, which may bring great performance regression.\n",
      "WARNING:autotvm:Cannot find config for target=llvm -keys=cpu -link-params=0, workload=('conv2d_NCHWc.x86', ('TENSOR', (1, 128, 100, 100), 'float32'), ('TENSOR', (512, 128, 1, 1), 'float32'), (1, 1), (0, 0, 0, 0), (1, 1), 'NCHW', 'NCHW', 'float32'). A fallback configuration is used, which may bring great performance regression.\n",
      "WARNING:autotvm:Cannot find config for target=llvm -keys=cpu -link-params=0, workload=('conv2d_NCHWc.x86', ('TENSOR', (1, 256, 200, 200), 'float32'), ('TENSOR', (512, 256, 1, 1), 'float32'), (2, 2), (0, 0, 0, 0), (1, 1), 'NCHW', 'NCHW', 'float32'). A fallback configuration is used, which may bring great performance regression.\n",
      "WARNING:autotvm:Cannot find config for target=llvm -keys=cpu -link-params=0, workload=('conv2d_NCHWc.x86', ('TENSOR', (1, 512, 100, 100), 'float32'), ('TENSOR', (128, 512, 1, 1), 'float32'), (1, 1), (0, 0, 0, 0), (1, 1), 'NCHW', 'NCHW', 'float32'). A fallback configuration is used, which may bring great performance regression.\n",
      "WARNING:autotvm:Cannot find config for target=llvm -keys=cpu -link-params=0, workload=('conv2d_NCHWc.x86', ('TENSOR', (1, 128, 100, 100), 'float32'), ('TENSOR', (128, 128, 3, 3), 'float32'), (1, 1), (1, 1, 1, 1), (1, 1), 'NCHW', 'NCHW', 'float32'). A fallback configuration is used, which may bring great performance regression.\n",
      "WARNING:autotvm:Cannot find config for target=llvm -keys=cpu -link-params=0, workload=('conv2d_NCHWc.x86', ('TENSOR', (1, 512, 100, 100), 'float32'), ('TENSOR', (256, 512, 1, 1), 'float32'), (1, 1), (0, 0, 0, 0), (1, 1), 'NCHW', 'NCHW', 'float32'). A fallback configuration is used, which may bring great performance regression.\n",
      "WARNING:autotvm:Cannot find config for target=llvm -keys=cpu -link-params=0, workload=('conv2d_NCHWc.x86', ('TENSOR', (1, 256, 100, 100), 'float32'), ('TENSOR', (256, 256, 3, 3), 'float32'), (2, 2), (1, 1, 1, 1), (1, 1), 'NCHW', 'NCHW', 'float32'). A fallback configuration is used, which may bring great performance regression.\n",
      "WARNING:autotvm:Cannot find config for target=llvm -keys=cpu -link-params=0, workload=('conv2d_NCHWc.x86', ('TENSOR', (1, 256, 50, 50), 'float32'), ('TENSOR', (1024, 256, 1, 1), 'float32'), (1, 1), (0, 0, 0, 0), (1, 1), 'NCHW', 'NCHW', 'float32'). A fallback configuration is used, which may bring great performance regression.\n",
      "WARNING:autotvm:Cannot find config for target=llvm -keys=cpu -link-params=0, workload=('conv2d_NCHWc.x86', ('TENSOR', (1, 512, 100, 100), 'float32'), ('TENSOR', (1024, 512, 1, 1), 'float32'), (2, 2), (0, 0, 0, 0), (1, 1), 'NCHW', 'NCHW', 'float32'). A fallback configuration is used, which may bring great performance regression.\n",
      "WARNING:autotvm:Cannot find config for target=llvm -keys=cpu -link-params=0, workload=('conv2d_NCHWc.x86', ('TENSOR', (1, 1024, 50, 50), 'float32'), ('TENSOR', (256, 1024, 1, 1), 'float32'), (1, 1), (0, 0, 0, 0), (1, 1), 'NCHW', 'NCHW', 'float32'). A fallback configuration is used, which may bring great performance regression.\n",
      "WARNING:autotvm:Cannot find config for target=llvm -keys=cpu -link-params=0, workload=('conv2d_NCHWc.x86', ('TENSOR', (1, 256, 50, 50), 'float32'), ('TENSOR', (256, 256, 3, 3), 'float32'), (1, 1), (1, 1, 1, 1), (1, 1), 'NCHW', 'NCHW', 'float32'). A fallback configuration is used, which may bring great performance regression.\n",
      "WARNING:autotvm:Cannot find config for target=llvm -keys=cpu -link-params=0, workload=('conv2d_NCHWc.x86', ('TENSOR', (1, 1024, 50, 50), 'float32'), ('TENSOR', (512, 1024, 1, 1), 'float32'), (1, 1), (0, 0, 0, 0), (1, 1), 'NCHW', 'NCHW', 'float32'). A fallback configuration is used, which may bring great performance regression.\n",
      "WARNING:autotvm:Cannot find config for target=llvm -keys=cpu -link-params=0, workload=('conv2d_NCHWc.x86', ('TENSOR', (1, 512, 50, 50), 'float32'), ('TENSOR', (512, 512, 3, 3), 'float32'), (2, 2), (1, 1, 1, 1), (1, 1), 'NCHW', 'NCHW', 'float32'). A fallback configuration is used, which may bring great performance regression.\n",
      "WARNING:autotvm:Cannot find config for target=llvm -keys=cpu -link-params=0, workload=('conv2d_NCHWc.x86', ('TENSOR', (1, 512, 25, 25), 'float32'), ('TENSOR', (2048, 512, 1, 1), 'float32'), (1, 1), (0, 0, 0, 0), (1, 1), 'NCHW', 'NCHW', 'float32'). A fallback configuration is used, which may bring great performance regression.\n",
      "WARNING:autotvm:Cannot find config for target=llvm -keys=cpu -link-params=0, workload=('conv2d_NCHWc.x86', ('TENSOR', (1, 1024, 50, 50), 'float32'), ('TENSOR', (2048, 1024, 1, 1), 'float32'), (2, 2), (0, 0, 0, 0), (1, 1), 'NCHW', 'NCHW', 'float32'). A fallback configuration is used, which may bring great performance regression.\n",
      "WARNING:autotvm:Cannot find config for target=llvm -keys=cpu -link-params=0, workload=('conv2d_NCHWc.x86', ('TENSOR', (1, 2048, 25, 25), 'float32'), ('TENSOR', (512, 2048, 1, 1), 'float32'), (1, 1), (0, 0, 0, 0), (1, 1), 'NCHW', 'NCHW', 'float32'). A fallback configuration is used, which may bring great performance regression.\n",
      "WARNING:autotvm:Cannot find config for target=llvm -keys=cpu -link-params=0, workload=('conv2d_NCHWc.x86', ('TENSOR', (1, 512, 25, 25), 'float32'), ('TENSOR', (512, 512, 3, 3), 'float32'), (1, 1), (1, 1, 1, 1), (1, 1), 'NCHW', 'NCHW', 'float32'). A fallback configuration is used, which may bring great performance regression.\n",
      "WARNING:autotvm:Cannot find config for target=llvm -keys=cpu -link-params=0, workload=('conv2d_NCHWc.x86', ('TENSOR', (1, 2048, 25, 25), 'float32'), ('TENSOR', (256, 2048, 1, 1), 'float32'), (1, 1), (0, 0, 0, 0), (1, 1), 'NCHW', 'NCHW', 'float32'). A fallback configuration is used, which may bring great performance regression.\n"
     ]
    },
    {
     "name": "stderr",
     "output_type": "stream",
     "text": [
      "WARNING:autotvm:Cannot find config for target=llvm -keys=cpu -link-params=0, workload=('conv2d_NCHWc.x86', ('TENSOR', (1, 256, 200, 200), 'float32'), ('TENSOR', (256, 256, 3, 3), 'float32'), (1, 1), (1, 1, 1, 1), (1, 1), 'NCHW', 'NCHW', 'float32'). A fallback configuration is used, which may bring great performance regression.\n",
      "WARNING:autotvm:Cannot find config for target=llvm -keys=cpu -link-params=0, workload=('conv2d_NCHWc.x86', ('TENSOR', (1, 256, 200, 200), 'float32'), ('TENSOR', (12, 256, 1, 1), 'float32'), (1, 1), (0, 0, 0, 0), (1, 1), 'NCHW', 'NCHW', 'float32'). A fallback configuration is used, which may bring great performance regression.\n",
      "WARNING:autotvm:Cannot find config for target=llvm -keys=cpu -link-params=0, workload=('conv2d_NCHWc.x86', ('TENSOR', (1, 256, 100, 100), 'float32'), ('TENSOR', (256, 256, 3, 3), 'float32'), (1, 1), (1, 1, 1, 1), (1, 1), 'NCHW', 'NCHW', 'float32'). A fallback configuration is used, which may bring great performance regression.\n",
      "WARNING:autotvm:Cannot find config for target=llvm -keys=cpu -link-params=0, workload=('conv2d_NCHWc.x86', ('TENSOR', (1, 256, 100, 100), 'float32'), ('TENSOR', (12, 256, 1, 1), 'float32'), (1, 1), (0, 0, 0, 0), (1, 1), 'NCHW', 'NCHW', 'float32'). A fallback configuration is used, which may bring great performance regression.\n",
      "WARNING:autotvm:Cannot find config for target=llvm -keys=cpu -link-params=0, workload=('conv2d_NCHWc.x86', ('TENSOR', (1, 256, 50, 50), 'float32'), ('TENSOR', (12, 256, 1, 1), 'float32'), (1, 1), (0, 0, 0, 0), (1, 1), 'NCHW', 'NCHW', 'float32'). A fallback configuration is used, which may bring great performance regression.\n",
      "WARNING:autotvm:Cannot find config for target=llvm -keys=cpu -link-params=0, workload=('conv2d_NCHWc.x86', ('TENSOR', (1, 256, 25, 25), 'float32'), ('TENSOR', (256, 256, 3, 3), 'float32'), (1, 1), (1, 1, 1, 1), (1, 1), 'NCHW', 'NCHW', 'float32'). A fallback configuration is used, which may bring great performance regression.\n",
      "WARNING:autotvm:Cannot find config for target=llvm -keys=cpu -link-params=0, workload=('conv2d_NCHWc.x86', ('TENSOR', (1, 256, 25, 25), 'float32'), ('TENSOR', (12, 256, 1, 1), 'float32'), (1, 1), (0, 0, 0, 0), (1, 1), 'NCHW', 'NCHW', 'float32'). A fallback configuration is used, which may bring great performance regression.\n",
      "WARNING:autotvm:Cannot find config for target=llvm -keys=cpu -link-params=0, workload=('conv2d_NCHWc.x86', ('TENSOR', (1, 256, 13, 13), 'float32'), ('TENSOR', (256, 256, 3, 3), 'float32'), (1, 1), (1, 1, 1, 1), (1, 1), 'NCHW', 'NCHW', 'float32'). A fallback configuration is used, which may bring great performance regression.\n",
      "WARNING:autotvm:Cannot find config for target=llvm -keys=cpu -link-params=0, workload=('conv2d_NCHWc.x86', ('TENSOR', (1, 256, 13, 13), 'float32'), ('TENSOR', (12, 256, 1, 1), 'float32'), (1, 1), (0, 0, 0, 0), (1, 1), 'NCHW', 'NCHW', 'float32'). A fallback configuration is used, which may bring great performance regression.\n",
      "WARNING:autotvm:Cannot find config for target=llvm -keys=cpu -link-params=0, workload=('conv2d_NCHWc.x86', ('TENSOR', (1, 256, 200, 200), 'float32'), ('TENSOR', (3, 256, 1, 1), 'float32'), (1, 1), (0, 0, 0, 0), (1, 1), 'NCHW', 'NCHW', 'float32'). A fallback configuration is used, which may bring great performance regression.\n",
      "WARNING:autotvm:Cannot find config for target=llvm -keys=cpu -link-params=0, workload=('conv2d_NCHWc.x86', ('TENSOR', (1, 256, 100, 100), 'float32'), ('TENSOR', (3, 256, 1, 1), 'float32'), (1, 1), (0, 0, 0, 0), (1, 1), 'NCHW', 'NCHW', 'float32'). A fallback configuration is used, which may bring great performance regression.\n",
      "WARNING:autotvm:Cannot find config for target=llvm -keys=cpu -link-params=0, workload=('conv2d_NCHWc.x86', ('TENSOR', (1, 256, 50, 50), 'float32'), ('TENSOR', (3, 256, 1, 1), 'float32'), (1, 1), (0, 0, 0, 0), (1, 1), 'NCHW', 'NCHW', 'float32'). A fallback configuration is used, which may bring great performance regression.\n",
      "WARNING:autotvm:Cannot find config for target=llvm -keys=cpu -link-params=0, workload=('conv2d_NCHWc.x86', ('TENSOR', (1, 256, 25, 25), 'float32'), ('TENSOR', (3, 256, 1, 1), 'float32'), (1, 1), (0, 0, 0, 0), (1, 1), 'NCHW', 'NCHW', 'float32'). A fallback configuration is used, which may bring great performance regression.\n",
      "WARNING:autotvm:Cannot find config for target=llvm -keys=cpu -link-params=0, workload=('conv2d_NCHWc.x86', ('TENSOR', (1, 256, 13, 13), 'float32'), ('TENSOR', (3, 256, 1, 1), 'float32'), (1, 1), (0, 0, 0, 0), (1, 1), 'NCHW', 'NCHW', 'float32'). A fallback configuration is used, which may bring great performance regression.\n",
      "WARNING:autotvm:Cannot find config for target=llvm -keys=cpu -link-params=0, workload=('dense_pack.x86', ('TENSOR', (?, 12544), 'float32'), ('TENSOR', (1024, 12544), 'float32'), None, 'float32'). A fallback configuration is used, which may bring great performance regression.\n",
      "WARNING:autotvm:Cannot find config for target=llvm -keys=cpu -link-params=0, workload=('dense_pack.x86', ('TENSOR', (?, 1024), 'float32'), ('TENSOR', (1024, 1024), 'float32'), None, 'float32'). A fallback configuration is used, which may bring great performance regression.\n",
      "WARNING:autotvm:Cannot find config for target=llvm -keys=cpu -link-params=0, workload=('dense_pack.x86', ('TENSOR', (?, 1024), 'float32'), ('TENSOR', (91, 1024), 'float32'), None, 'float32'). A fallback configuration is used, which may bring great performance regression.\n",
      "WARNING:autotvm:Cannot find config for target=llvm -keys=cpu -link-params=0, workload=('dense_pack.x86', ('TENSOR', (?, 1024), 'float32'), ('TENSOR', (364, 1024), 'float32'), None, 'float32'). A fallback configuration is used, which may bring great performance regression.\n",
      "WARNING:autotvm:Cannot find config for target=llvm -keys=cpu -link-params=0, workload=('conv2d_NCHWc.x86', ('TENSOR', (?, 256, 14, 14), 'float32'), ('TENSOR', (256, 256, 3, 3), 'float32'), (1, 1), (1, 1, 1, 1), (1, 1), 'NCHW', 'NCHW', 'float32'). A fallback configuration is used, which may bring great performance regression.\n",
      "WARNING:autotvm:Cannot find config for target=llvm -keys=cpu -link-params=0, workload=('conv2d_NCHWc.x86', ('TENSOR', (?, 256, 28, 28), 'float32'), ('TENSOR', (91, 256, 1, 1), 'float32'), (1, 1), (0, 0, 0, 0), (1, 1), 'NCHW', 'NCHW', 'float32'). A fallback configuration is used, which may bring great performance regression.\n",
      "WARNING:autotvm:Cannot find config for target=llvm -keys=cpu -link-params=0, workload=('conv2d_NCHWc.x86', ('TENSOR', (1, 1, 800, 800, 3), 'float32'), ('TENSOR', (8, 1, 7, 7, 3, 8), 'float32'), (2, 2), (3, 3, 3, 3), (1, 1), 'NCHW3c', 'NCHW8c', 'float32'). A fallback configuration is used, which may bring great performance regression.\n",
      "WARNING:autotvm:Cannot find config for target=llvm -keys=cpu -link-params=0, workload=('conv2d_NCHWc.x86', ('TENSOR', (1, 8, 200, 200, 8), 'float32'), ('TENSOR', (8, 8, 1, 1, 8, 8), 'float32'), (1, 1), (0, 0, 0, 0), (1, 1), 'NCHW8c', 'NCHW8c', 'float32'). A fallback configuration is used, which may bring great performance regression.\n",
      "WARNING:autotvm:Cannot find config for target=llvm -keys=cpu -link-params=0, workload=('conv2d_NCHWc.x86', ('TENSOR', (1, 8, 200, 200, 8), 'float32'), ('TENSOR', (8, 8, 3, 3, 8, 8), 'float32'), (1, 1), (1, 1, 1, 1), (1, 1), 'NCHW8c', 'NCHW8c', 'float32'). A fallback configuration is used, which may bring great performance regression.\n",
      "WARNING:autotvm:Cannot find config for target=llvm -keys=cpu -link-params=0, workload=('conv2d_NCHWc.x86', ('TENSOR', (1, 8, 200, 200, 8), 'float32'), ('TENSOR', (32, 8, 1, 1, 8, 8), 'float32'), (1, 1), (0, 0, 0, 0), (1, 1), 'NCHW8c', 'NCHW8c', 'float32'). A fallback configuration is used, which may bring great performance regression.\n",
      "WARNING:autotvm:Cannot find config for target=llvm -keys=cpu -link-params=0, workload=('conv2d_NCHWc.x86', ('TENSOR', (1, 32, 200, 200, 8), 'float32'), ('TENSOR', (8, 32, 1, 1, 8, 8), 'float32'), (1, 1), (0, 0, 0, 0), (1, 1), 'NCHW8c', 'NCHW8c', 'float32'). A fallback configuration is used, which may bring great performance regression.\n",
      "WARNING:autotvm:Cannot find config for target=llvm -keys=cpu -link-params=0, workload=('conv2d_NCHWc.x86', ('TENSOR', (1, 32, 200, 200, 8), 'float32'), ('TENSOR', (16, 32, 1, 1, 8, 8), 'float32'), (1, 1), (0, 0, 0, 0), (1, 1), 'NCHW8c', 'NCHW8c', 'float32'). A fallback configuration is used, which may bring great performance regression.\n"
     ]
    },
    {
     "name": "stderr",
     "output_type": "stream",
     "text": [
      "WARNING:autotvm:Cannot find config for target=llvm -keys=cpu -link-params=0, workload=('conv2d_NCHWc.x86', ('TENSOR', (1, 16, 200, 200, 8), 'float32'), ('TENSOR', (16, 16, 3, 3, 8, 8), 'float32'), (2, 2), (1, 1, 1, 1), (1, 1), 'NCHW8c', 'NCHW8c', 'float32'). A fallback configuration is used, which may bring great performance regression.\n",
      "WARNING:autotvm:Cannot find config for target=llvm -keys=cpu -link-params=0, workload=('conv2d_NCHWc.x86', ('TENSOR', (1, 32, 200, 200, 8), 'float32'), ('TENSOR', (64, 32, 1, 1, 8, 8), 'float32'), (2, 2), (0, 0, 0, 0), (1, 1), 'NCHW8c', 'NCHW8c', 'float32'). A fallback configuration is used, which may bring great performance regression.\n",
      "WARNING:autotvm:Cannot find config for target=llvm -keys=cpu -link-params=0, workload=('conv2d_NCHWc.x86', ('TENSOR', (1, 16, 100, 100, 8), 'float32'), ('TENSOR', (64, 16, 1, 1, 8, 8), 'float32'), (1, 1), (0, 0, 0, 0), (1, 1), 'NCHW8c', 'NCHW8c', 'float32'). A fallback configuration is used, which may bring great performance regression.\n",
      "WARNING:autotvm:Cannot find config for target=llvm -keys=cpu -link-params=0, workload=('conv2d_NCHWc.x86', ('TENSOR', (1, 64, 100, 100, 8), 'float32'), ('TENSOR', (16, 64, 1, 1, 8, 8), 'float32'), (1, 1), (0, 0, 0, 0), (1, 1), 'NCHW8c', 'NCHW8c', 'float32'). A fallback configuration is used, which may bring great performance regression.\n",
      "WARNING:autotvm:Cannot find config for target=llvm -keys=cpu -link-params=0, workload=('conv2d_NCHWc.x86', ('TENSOR', (1, 16, 100, 100, 8), 'float32'), ('TENSOR', (16, 16, 3, 3, 8, 8), 'float32'), (1, 1), (1, 1, 1, 1), (1, 1), 'NCHW8c', 'NCHW8c', 'float32'). A fallback configuration is used, which may bring great performance regression.\n",
      "WARNING:autotvm:Cannot find config for target=llvm -keys=cpu -link-params=0, workload=('conv2d_NCHWc.x86', ('TENSOR', (1, 64, 100, 100, 8), 'float32'), ('TENSOR', (32, 64, 1, 1, 8, 8), 'float32'), (1, 1), (0, 0, 0, 0), (1, 1), 'NCHW8c', 'NCHW8c', 'float32'). A fallback configuration is used, which may bring great performance regression.\n",
      "WARNING:autotvm:Cannot find config for target=llvm -keys=cpu -link-params=0, workload=('conv2d_NCHWc.x86', ('TENSOR', (1, 32, 100, 100, 8), 'float32'), ('TENSOR', (32, 32, 3, 3, 8, 8), 'float32'), (2, 2), (1, 1, 1, 1), (1, 1), 'NCHW8c', 'NCHW8c', 'float32'). A fallback configuration is used, which may bring great performance regression.\n",
      "WARNING:autotvm:Cannot find config for target=llvm -keys=cpu -link-params=0, workload=('conv2d_NCHWc.x86', ('TENSOR', (1, 64, 100, 100, 8), 'float32'), ('TENSOR', (128, 64, 1, 1, 8, 8), 'float32'), (2, 2), (0, 0, 0, 0), (1, 1), 'NCHW8c', 'NCHW8c', 'float32'). A fallback configuration is used, which may bring great performance regression.\n",
      "WARNING:autotvm:Cannot find config for target=llvm -keys=cpu -link-params=0, workload=('conv2d_NCHWc.x86', ('TENSOR', (1, 32, 50, 50, 8), 'float32'), ('TENSOR', (128, 32, 1, 1, 8, 8), 'float32'), (1, 1), (0, 0, 0, 0), (1, 1), 'NCHW8c', 'NCHW8c', 'float32'). A fallback configuration is used, which may bring great performance regression.\n",
      "WARNING:autotvm:Cannot find config for target=llvm -keys=cpu -link-params=0, workload=('conv2d_NCHWc.x86', ('TENSOR', (1, 128, 50, 50, 8), 'float32'), ('TENSOR', (32, 128, 1, 1, 8, 8), 'float32'), (1, 1), (0, 0, 0, 0), (1, 1), 'NCHW8c', 'NCHW8c', 'float32'). A fallback configuration is used, which may bring great performance regression.\n",
      "WARNING:autotvm:Cannot find config for target=llvm -keys=cpu -link-params=0, workload=('conv2d_NCHWc.x86', ('TENSOR', (1, 32, 50, 50, 8), 'float32'), ('TENSOR', (32, 32, 3, 3, 8, 8), 'float32'), (1, 1), (1, 1, 1, 1), (1, 1), 'NCHW8c', 'NCHW8c', 'float32'). A fallback configuration is used, which may bring great performance regression.\n",
      "WARNING:autotvm:Cannot find config for target=llvm -keys=cpu -link-params=0, workload=('conv2d_NCHWc.x86', ('TENSOR', (1, 128, 50, 50, 8), 'float32'), ('TENSOR', (64, 128, 1, 1, 8, 8), 'float32'), (1, 1), (0, 0, 0, 0), (1, 1), 'NCHW8c', 'NCHW8c', 'float32'). A fallback configuration is used, which may bring great performance regression.\n",
      "WARNING:autotvm:Cannot find config for target=llvm -keys=cpu -link-params=0, workload=('conv2d_NCHWc.x86', ('TENSOR', (1, 64, 50, 50, 8), 'float32'), ('TENSOR', (64, 64, 3, 3, 8, 8), 'float32'), (2, 2), (1, 1, 1, 1), (1, 1), 'NCHW8c', 'NCHW8c', 'float32'). A fallback configuration is used, which may bring great performance regression.\n",
      "WARNING:autotvm:Cannot find config for target=llvm -keys=cpu -link-params=0, workload=('conv2d_NCHWc.x86', ('TENSOR', (1, 128, 50, 50, 8), 'float32'), ('TENSOR', (256, 128, 1, 1, 8, 8), 'float32'), (2, 2), (0, 0, 0, 0), (1, 1), 'NCHW8c', 'NCHW8c', 'float32'). A fallback configuration is used, which may bring great performance regression.\n",
      "WARNING:autotvm:Cannot find config for target=llvm -keys=cpu -link-params=0, workload=('conv2d_NCHWc.x86', ('TENSOR', (1, 64, 25, 25, 8), 'float32'), ('TENSOR', (256, 64, 1, 1, 8, 8), 'float32'), (1, 1), (0, 0, 0, 0), (1, 1), 'NCHW8c', 'NCHW8c', 'float32'). A fallback configuration is used, which may bring great performance regression.\n",
      "WARNING:autotvm:Cannot find config for target=llvm -keys=cpu -link-params=0, workload=('conv2d_NCHWc.x86', ('TENSOR', (1, 256, 25, 25, 8), 'float32'), ('TENSOR', (64, 256, 1, 1, 8, 8), 'float32'), (1, 1), (0, 0, 0, 0), (1, 1), 'NCHW8c', 'NCHW8c', 'float32'). A fallback configuration is used, which may bring great performance regression.\n",
      "WARNING:autotvm:Cannot find config for target=llvm -keys=cpu -link-params=0, workload=('conv2d_NCHWc.x86', ('TENSOR', (1, 64, 25, 25, 8), 'float32'), ('TENSOR', (64, 64, 3, 3, 8, 8), 'float32'), (1, 1), (1, 1, 1, 1), (1, 1), 'NCHW8c', 'NCHW8c', 'float32'). A fallback configuration is used, which may bring great performance regression.\n",
      "WARNING:autotvm:Cannot find config for target=llvm -keys=cpu -link-params=0, workload=('conv2d_NCHWc.x86', ('TENSOR', (1, 256, 25, 25, 8), 'float32'), ('TENSOR', (32, 256, 1, 1, 8, 8), 'float32'), (1, 1), (0, 0, 0, 0), (1, 1), 'NCHW8c', 'NCHW8c', 'float32'). A fallback configuration is used, which may bring great performance regression.\n",
      "WARNING:autotvm:Cannot find config for target=llvm -keys=cpu -link-params=0, workload=('conv2d_NCHWc.x86', ('TENSOR', (1, 32, 200, 200, 8), 'float32'), ('TENSOR', (32, 32, 1, 1, 8, 8), 'float32'), (1, 1), (0, 0, 0, 0), (1, 1), 'NCHW8c', 'NCHW8c', 'float32'). A fallback configuration is used, which may bring great performance regression.\n",
      "WARNING:autotvm:Cannot find config for target=llvm -keys=cpu -link-params=0, workload=('conv2d_NCHWc.x86', ('TENSOR', (1, 32, 200, 200, 8), 'float32'), ('TENSOR', (32, 32, 3, 3, 8, 8), 'float32'), (1, 1), (1, 1, 1, 1), (1, 1), 'NCHW8c', 'NCHW8c', 'float32'). A fallback configuration is used, which may bring great performance regression.\n",
      "WARNING:autotvm:Cannot find config for target=llvm -keys=cpu -link-params=0, workload=('conv2d_NCHWc.x86', ('TENSOR', (1, 128, 200, 200, 2), 'float32'), ('TENSOR', (1, 128, 1, 1, 2, 3), 'float32'), (1, 1), (0, 0, 0, 0), (1, 1), 'NCHW2c', 'NCHW3c', 'float32'). A fallback configuration is used, which may bring great performance regression.\n",
      "WARNING:autotvm:Cannot find config for target=llvm -keys=cpu -link-params=0, workload=('conv2d_NCHWc.x86', ('TENSOR', (1, 32, 100, 100, 8), 'float32'), ('TENSOR', (32, 32, 3, 3, 8, 8), 'float32'), (1, 1), (1, 1, 1, 1), (1, 1), 'NCHW8c', 'NCHW8c', 'float32'). A fallback configuration is used, which may bring great performance regression.\n",
      "WARNING:autotvm:Cannot find config for target=llvm -keys=cpu -link-params=0, workload=('conv2d_NCHWc.x86', ('TENSOR', (1, 128, 100, 100, 2), 'float32'), ('TENSOR', (1, 128, 1, 1, 2, 3), 'float32'), (1, 1), (0, 0, 0, 0), (1, 1), 'NCHW2c', 'NCHW3c', 'float32'). A fallback configuration is used, which may bring great performance regression.\n",
      "WARNING:autotvm:Cannot find config for target=llvm -keys=cpu -link-params=0, workload=('conv2d_NCHWc.x86', ('TENSOR', (1, 128, 50, 50, 2), 'float32'), ('TENSOR', (1, 128, 1, 1, 2, 3), 'float32'), (1, 1), (0, 0, 0, 0), (1, 1), 'NCHW2c', 'NCHW3c', 'float32'). A fallback configuration is used, which may bring great performance regression.\n",
      "WARNING:autotvm:Cannot find config for target=llvm -keys=cpu -link-params=0, workload=('conv2d_NCHWc.x86', ('TENSOR', (1, 32, 25, 25, 8), 'float32'), ('TENSOR', (32, 32, 3, 3, 8, 8), 'float32'), (1, 1), (1, 1, 1, 1), (1, 1), 'NCHW8c', 'NCHW8c', 'float32'). A fallback configuration is used, which may bring great performance regression.\n"
     ]
    },
    {
     "name": "stderr",
     "output_type": "stream",
     "text": [
      "WARNING:autotvm:Cannot find config for target=llvm -keys=cpu -link-params=0, workload=('conv2d_NCHWc.x86', ('TENSOR', (1, 128, 25, 25, 2), 'float32'), ('TENSOR', (1, 128, 1, 1, 2, 3), 'float32'), (1, 1), (0, 0, 0, 0), (1, 1), 'NCHW2c', 'NCHW3c', 'float32'). A fallback configuration is used, which may bring great performance regression.\n",
      "WARNING:autotvm:Cannot find config for target=llvm -keys=cpu -link-params=0, workload=('conv2d_NCHWc.x86', ('TENSOR', (1, 32, 13, 13, 8), 'float32'), ('TENSOR', (32, 32, 3, 3, 8, 8), 'float32'), (1, 1), (1, 1, 1, 1), (1, 1), 'NCHW8c', 'NCHW8c', 'float32'). A fallback configuration is used, which may bring great performance regression.\n",
      "WARNING:autotvm:Cannot find config for target=llvm -keys=cpu -link-params=0, workload=('conv2d_NCHWc.x86', ('TENSOR', (1, 128, 13, 13, 2), 'float32'), ('TENSOR', (1, 128, 1, 1, 2, 3), 'float32'), (1, 1), (0, 0, 0, 0), (1, 1), 'NCHW2c', 'NCHW3c', 'float32'). A fallback configuration is used, which may bring great performance regression.\n",
      "WARNING:autotvm:Cannot find config for target=llvm -keys=cpu -link-params=0, workload=('conv2d_NCHWc.x86', ('TENSOR', (1, 64, 200, 200, 4), 'float32'), ('TENSOR', (2, 64, 1, 1, 4, 6), 'float32'), (1, 1), (0, 0, 0, 0), (1, 1), 'NCHW4c', 'NCHW6c', 'float32'). A fallback configuration is used, which may bring great performance regression.\n",
      "WARNING:autotvm:Cannot find config for target=llvm -keys=cpu -link-params=0, workload=('conv2d_NCHWc.x86', ('TENSOR', (1, 64, 100, 100, 4), 'float32'), ('TENSOR', (2, 64, 1, 1, 4, 6), 'float32'), (1, 1), (0, 0, 0, 0), (1, 1), 'NCHW4c', 'NCHW6c', 'float32'). A fallback configuration is used, which may bring great performance regression.\n",
      "WARNING:autotvm:Cannot find config for target=llvm -keys=cpu -link-params=0, workload=('conv2d_NCHWc.x86', ('TENSOR', (1, 64, 50, 50, 4), 'float32'), ('TENSOR', (2, 64, 1, 1, 4, 6), 'float32'), (1, 1), (0, 0, 0, 0), (1, 1), 'NCHW4c', 'NCHW6c', 'float32'). A fallback configuration is used, which may bring great performance regression.\n",
      "WARNING:autotvm:Cannot find config for target=llvm -keys=cpu -link-params=0, workload=('conv2d_NCHWc.x86', ('TENSOR', (1, 64, 25, 25, 4), 'float32'), ('TENSOR', (2, 64, 1, 1, 4, 6), 'float32'), (1, 1), (0, 0, 0, 0), (1, 1), 'NCHW4c', 'NCHW6c', 'float32'). A fallback configuration is used, which may bring great performance regression.\n",
      "WARNING:autotvm:Cannot find config for target=llvm -keys=cpu -link-params=0, workload=('conv2d_NCHWc.x86', ('TENSOR', (1, 64, 13, 13, 4), 'float32'), ('TENSOR', (2, 64, 1, 1, 4, 6), 'float32'), (1, 1), (0, 0, 0, 0), (1, 1), 'NCHW4c', 'NCHW6c', 'float32'). A fallback configuration is used, which may bring great performance regression.\n",
      "WARNING:autotvm:Cannot find config for target=llvm -keys=cpu -link-params=0, workload=('dense_pack.x86', ('TENSOR', (any_dim, 12544), 'float32'), ('TENSOR', (64, 12544, 16), 'float32'), None, 'float32'). A fallback configuration is used, which may bring great performance regression.\n",
      "WARNING:autotvm:Cannot find config for target=llvm -keys=cpu -link-params=0, workload=('dense_pack.x86', ('TENSOR', (any_dim, 1024), 'float32'), ('TENSOR', (64, 1024, 16), 'float32'), None, 'float32'). A fallback configuration is used, which may bring great performance regression.\n",
      "WARNING:autotvm:Cannot find config for target=llvm -keys=cpu -link-params=0, workload=('dense_pack.x86', ('TENSOR', (any_dim, 1024), 'float32'), ('TENSOR', (7, 1024, 13), 'float32'), None, 'float32'). A fallback configuration is used, which may bring great performance regression.\n",
      "WARNING:autotvm:Cannot find config for target=llvm -keys=cpu -link-params=0, workload=('dense_pack.x86', ('TENSOR', (any_dim, 1024), 'float32'), ('TENSOR', (26, 1024, 14), 'float32'), None, 'float32'). A fallback configuration is used, which may bring great performance regression.\n",
      "WARNING:autotvm:Cannot find config for target=llvm -keys=cpu -link-params=0, workload=('conv2d_NCHWc.x86', ('TENSOR', (any_dim, 32, 14, 14, 8), 'float32'), ('TENSOR', (32, 32, 3, 3, 8, 8), 'float32'), (1, 1), (1, 1, 1, 1), (1, 1), 'NCHW8c', 'NCHW8c', 'float32'). A fallback configuration is used, which may bring great performance regression.\n",
      "WARNING:autotvm:Cannot find config for target=llvm -keys=cpu -link-params=0, workload=('conv2d_NCHWc.x86', ('TENSOR', (any_dim, 256, 29, 29), 'float32'), ('TENSOR', (256, 256, 2, 2), 'float32'), (1, 1), (0, 0), (1, 1), 'NCHW', 'NCHW', 'float32'). A fallback configuration is used, which may bring great performance regression.\n",
      "WARNING:autotvm:Cannot find config for target=llvm -keys=cpu -link-params=0, workload=('conv2d_NCHWc.x86', ('TENSOR', (any_dim, 64, 28, 28, 4), 'float32'), ('TENSOR', (13, 64, 1, 1, 4, 7), 'float32'), (1, 1), (0, 0, 0, 0), (1, 1), 'NCHW4c', 'NCHW7c', 'float32'). A fallback configuration is used, which may bring great performance regression.\n"
     ]
    }
   ],
   "source": [
    "# Add \"-libs=mkl\" to get best performance on x86 target.\n",
    "# For x86 machine supports AVX512, the complete target is\n",
    "# \"llvm -mcpu=skylake-avx512 -libs=mkl\"\n",
    "target = \"llvm\"\n",
    "\n",
    "with tvm.transform.PassContext(opt_level=3, disabled_pass=[\"FoldScaleAxis\"]):\n",
    "    vm_exec = relay.vm.compile(mod, target=target, params=params)"
   ]
  },
  {
   "cell_type": "markdown",
   "metadata": {},
   "source": [
    "Inference with Relay VM\n",
    "-----------------------\n",
    "\n"
   ]
  },
  {
   "cell_type": "code",
   "execution_count": 9,
   "metadata": {},
   "outputs": [],
   "source": [
    "dev = tvm.cpu()\n",
    "vm = VirtualMachine(vm_exec, dev)\n",
    "vm.set_input(\"main\", **{input_name: img})\n",
    "tvm_res = vm.run()"
   ]
  },
  {
   "cell_type": "markdown",
   "metadata": {},
   "source": [
    "Get boxes with score larger than 0.9\n",
    "------------------------------------\n",
    "\n"
   ]
  },
  {
   "cell_type": "code",
   "execution_count": null,
   "metadata": {},
   "outputs": [],
   "source": [
    "score_threshold = 0.9\n",
    "boxes = tvm_res[0].asnumpy().tolist()\n",
    "valid_boxes = []\n",
    "for i, score in enumerate(tvm_res[1].asnumpy().tolist()):\n",
    "    if score > score_threshold:\n",
    "        valid_boxes.append(boxes[i])\n",
    "    else:\n",
    "        break\n",
    "\n",
    "print(\"Get {} valid boxes\".format(len(valid_boxes)))"
   ]
  }
 ],
 "metadata": {
  "kernelspec": {
   "display_name": "Python 3",
   "language": "python",
   "name": "python3"
  },
  "language_info": {
   "codemirror_mode": {
    "name": "ipython",
    "version": 3
   },
   "file_extension": ".py",
   "mimetype": "text/x-python",
   "name": "python",
   "nbconvert_exporter": "python",
   "pygments_lexer": "ipython3",
   "version": "3.7.10"
  }
 },
 "nbformat": 4,
 "nbformat_minor": 1
}

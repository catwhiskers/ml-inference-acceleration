{
 "cells": [
  {
   "cell_type": "code",
   "execution_count": 1,
   "metadata": {
    "jupyter": {
     "outputs_hidden": true
    }
   },
   "outputs": [
    {
     "name": "stdout",
     "output_type": "stream",
     "text": [
      "/usr/bin/sh: apt-get: command not found\n",
      "/usr/bin/sh: apt-get: command not found\n",
      "\u001b[33mWARNING: You are using pip version 21.1.3; however, version 21.3.1 is available.\n",
      "You should consider upgrading via the '/home/ec2-user/anaconda3/envs/python3/bin/python -m pip install --upgrade pip' command.\u001b[0m\n",
      "\u001b[33mWARNING: You are using pip version 21.1.3; however, version 21.3.1 is available.\n",
      "You should consider upgrading via the '/home/ec2-user/anaconda3/envs/python3/bin/python -m pip install --upgrade pip' command.\u001b[0m\n",
      "\u001b[33mWARNING: You are using pip version 21.1.3; however, version 21.3.1 is available.\n",
      "You should consider upgrading via the '/home/ec2-user/anaconda3/envs/python3/bin/python -m pip install --upgrade pip' command.\u001b[0m\n",
      "\u001b[33mWARNING: You are using pip version 21.1.3; however, version 21.3.1 is available.\n",
      "You should consider upgrading via the '/home/ec2-user/anaconda3/envs/python3/bin/python -m pip install --upgrade pip' command.\u001b[0m\n",
      "\u001b[33mWARNING: You are using pip version 21.1.3; however, version 21.3.1 is available.\n",
      "You should consider upgrading via the '/home/ec2-user/anaconda3/envs/python3/bin/python -m pip install --upgrade pip' command.\u001b[0m\n",
      "\u001b[33mWARNING: You are using pip version 21.1.3; however, version 21.3.1 is available.\n",
      "You should consider upgrading via the '/home/ec2-user/anaconda3/envs/python3/bin/python -m pip install --upgrade pip' command.\u001b[0m\n",
      "\u001b[33mWARNING: You are using pip version 21.1.3; however, version 21.3.1 is available.\n",
      "You should consider upgrading via the '/home/ec2-user/anaconda3/envs/python3/bin/python -m pip install --upgrade pip' command.\u001b[0m\n"
     ]
    }
   ],
   "source": [
    "# Install dependencies\n",
    "# !apt-get update\n",
    "# !apt-get install ffmpeg libsm6 libxext6  -y\n",
    "!pip install -q smdebug\n",
    "!pip install -q seaborn\n",
    "!pip install -q plotly\n",
    "!pip install -q opencv-python\n",
    "!pip install -q shap\n",
    "!pip install -q bokeh\n",
    "!pip install -q imageio"
   ]
  },
  {
   "cell_type": "markdown",
   "metadata": {
    "id": "3S0urcTM-uxM"
   },
   "source": [
    "# Using SageMaker Neo to Compile a Tensorflow U-Net Model\n",
    "\n",
    "[SageMaker Neo](https://aws.amazon.com/sagemaker/neo/) makes it easy to compile pre-trained TensorFlow models and build an inference optimized container without the need for any custom model serving or inference code.\n",
    "\n",
    "<img src=\"https://paperswithcode.com/media/methods/Screen_Shot_2020-07-07_at_9.08.00_PM_rpNArED.png\" align=\"center\" style=\"padding: 8px;width:500px;\">\n",
    "\n",
    "[U-Net](https://paperswithcode.com/method/u-net) is an architecture for semantic segmentation. It's a popular model for biological images including Ultrasound, Microscopy, CT, MRI and more. \n",
    "\n",
    "In this example, we will show how deploy a pre-trained U-Net model to a SageMaker Endpoint with Neo compilation using the [SageMaker Python SDK](https://github.com/aws/sagemaker-python-sdk), and then use the models to perform inference requests. We also provide a performance comparison so you can see the benefits of model compilation."
   ]
  },
  {
   "cell_type": "markdown",
   "metadata": {
    "id": "8zMksa4C-uxX"
   },
   "source": [
    "## Setup\n",
    "\n",
    "First, we need to ensure we have SageMaker Python SDK 1.x and Tensorflow 1.15.x. Then, import necessary Python packages."
   ]
  },
  {
   "cell_type": "code",
   "execution_count": 2,
   "metadata": {
    "colab": {
     "base_uri": "https://localhost:8080/"
    },
    "id": "AcGt7hZX-uxY",
    "outputId": "bc1c8c6e-f204-4d04-eef5-4abbf18024d6",
    "scrolled": true
   },
   "outputs": [
    {
     "name": "stdout",
     "output_type": "stream",
     "text": [
      "\u001b[33mWARNING: You are using pip version 21.1.3; however, version 21.3.1 is available.\n",
      "You should consider upgrading via the '/home/ec2-user/anaconda3/envs/python3/bin/python -m pip install --upgrade pip' command.\u001b[0m\n",
      "\u001b[33mWARNING: You are using pip version 21.1.3; however, version 21.3.1 is available.\n",
      "You should consider upgrading via the '/home/ec2-user/anaconda3/envs/python3/bin/python -m pip install --upgrade pip' command.\u001b[0m\n"
     ]
    }
   ],
   "source": [
    "!pip install -U --quiet --upgrade \"sagemaker\"\n",
    "!pip install -U --quiet \"tensorflow==1.15.3\""
   ]
  },
  {
   "cell_type": "code",
   "execution_count": 3,
   "metadata": {},
   "outputs": [],
   "source": [
    "import tarfile\n",
    "import numpy as np\n",
    "import sagemaker\n",
    "import time\n",
    "from sagemaker.utils import name_from_base"
   ]
  },
  {
   "cell_type": "markdown",
   "metadata": {
    "id": "iWnz80a2-uxZ"
   },
   "source": [
    "Next, we'll get the IAM execution role and a few other SageMaker specific variables from our notebook environment, so that SageMaker can access resources in your AWS account later in the example."
   ]
  },
  {
   "cell_type": "code",
   "execution_count": 4,
   "metadata": {
    "id": "2O3slomA-uxa"
   },
   "outputs": [],
   "source": [
    "from sagemaker import get_execution_role\n",
    "from sagemaker.session import Session\n",
    "\n",
    "role = get_execution_role()\n",
    "sess = Session()\n",
    "region = sess.boto_region_name\n",
    "bucket = sess.default_bucket()"
   ]
  },
  {
   "cell_type": "markdown",
   "metadata": {
    "id": "Ij91QgHSAH-m"
   },
   "source": [
    "SageMaker [Neo supports Tensorflow 1.15.x](https://docs.amazonaws.cn/en_us/sagemaker/latest/dg/neo-supported-cloud.html). Check your version of Tensorflow to prevent downstream framework errors."
   ]
  },
  {
   "cell_type": "code",
   "execution_count": 5,
   "metadata": {
    "colab": {
     "base_uri": "https://localhost:8080/"
    },
    "id": "HTMoVu8M_-M3",
    "outputId": "22fbf21b-254d-45ca-a2c3-b693dc9ef68d"
   },
   "outputs": [
    {
     "name": "stdout",
     "output_type": "stream",
     "text": [
      "1.15.3\n"
     ]
    }
   ],
   "source": [
    "import tensorflow as tf\n",
    "\n",
    "print(tf.__version__)  # This notebook runs on TensorFlow 1.15.x or earlier"
   ]
  },
  {
   "cell_type": "markdown",
   "metadata": {
    "id": "RSxGrG4j-uxa"
   },
   "source": [
    "## Download U-Net Model\n",
    "\n",
    "The SageMaker Neo TensorFlow Serving Container works with any model stored in TensorFlow's [SavedModel format](https://www.tensorflow.org/guide/saved_model). This could be the output of your own training job or a model trained elsewhere. For this example, we will use a pre-trained version of the U-Net model based on this [repo](https://github.com/kamalkraj/DATA-SCIENCE-BOWL-2018)."
   ]
  },
  {
   "cell_type": "code",
   "execution_count": 6,
   "metadata": {
    "colab": {
     "base_uri": "https://localhost:8080/"
    },
    "id": "eqFeogKS-uxa",
    "outputId": "ad9663e6-afb9-4706-a4a7-c2725e483f82"
   },
   "outputs": [],
   "source": [
    "model_name = \"unet_medical\"\n",
    "export_path = \"export\"\n",
    "model_archive_name = \"unet-medical.tar.gz\"\n",
    "model_archive_url = \"https://sagemaker-neo-artifacts.s3.us-east-2.amazonaws.com/{}\".format(\n",
    "    model_archive_name\n",
    ")"
   ]
  },
  {
   "cell_type": "code",
   "execution_count": 7,
   "metadata": {},
   "outputs": [
    {
     "name": "stdout",
     "output_type": "stream",
     "text": [
      "--2021-11-08 14:59:59--  https://sagemaker-neo-artifacts.s3.us-east-2.amazonaws.com/unet-medical.tar.gz\n",
      "Resolving sagemaker-neo-artifacts.s3.us-east-2.amazonaws.com (sagemaker-neo-artifacts.s3.us-east-2.amazonaws.com)... 52.219.102.66\n",
      "Connecting to sagemaker-neo-artifacts.s3.us-east-2.amazonaws.com (sagemaker-neo-artifacts.s3.us-east-2.amazonaws.com)|52.219.102.66|:443... connected.\n",
      "HTTP request sent, awaiting response... 200 OK\n",
      "Length: 7217516 (6.9M) [application/x-gzip]\n",
      "Saving to: ‘unet-medical.tar.gz’\n",
      "\n",
      "100%[======================================>] 7,217,516   16.0MB/s   in 0.4s   \n",
      "\n",
      "2021-11-08 14:59:59 (16.0 MB/s) - ‘unet-medical.tar.gz’ saved [7217516/7217516]\n",
      "\n"
     ]
    }
   ],
   "source": [
    "!wget {model_archive_url}"
   ]
  },
  {
   "cell_type": "markdown",
   "metadata": {},
   "source": [
    "The pre-trained model and its artifacts are saved in a compressed tar file (.tar.gz) so unzip first with:"
   ]
  },
  {
   "cell_type": "code",
   "execution_count": 8,
   "metadata": {},
   "outputs": [
    {
     "name": "stdout",
     "output_type": "stream",
     "text": [
      "._export\n",
      "export/\n",
      "export/._.DS_Store\n",
      "export/.DS_Store\n",
      "export/._Servo\n",
      "export/Servo/\n",
      "export/Servo/._.DS_Store\n",
      "export/Servo/.DS_Store\n",
      "export/Servo/._1\n",
      "export/Servo/1/\n",
      "export/Servo/1/._.DS_Store\n",
      "export/Servo/1/.DS_Store\n",
      "export/Servo/1/._variables\n",
      "export/Servo/1/variables/\n",
      "export/Servo/1/._saved_model.pb\n",
      "export/Servo/1/saved_model.pb\n",
      "export/Servo/1/variables/._variables.data-00000-of-00001\n",
      "export/Servo/1/variables/variables.data-00000-of-00001\n",
      "export/Servo/1/variables/._variables.index\n",
      "export/Servo/1/variables/variables.index\n"
     ]
    }
   ],
   "source": [
    "!tar -xvzf unet-medical.tar.gz"
   ]
  },
  {
   "cell_type": "markdown",
   "metadata": {
    "id": "nJETn9oY-uxb"
   },
   "source": [
    "After downloading the model, we can inspect it using TensorFlow's ``saved_model_cli`` command. In the command output, you should see \n",
    "\n",
    "```\n",
    "MetaGraphDef with tag-set: 'serve' contains the following SignatureDefs:\n",
    "\n",
    "signature_def['serving_default']:\n",
    "...\n",
    "```\n",
    "\n",
    "The command output should also show details of the model inputs and outputs."
   ]
  },
  {
   "cell_type": "code",
   "execution_count": 9,
   "metadata": {
    "colab": {
     "base_uri": "https://localhost:8080/"
    },
    "id": "J9wSkL4F-uxb",
    "outputId": "c32a97b9-a312-4edf-ec86-6c8a401867d5"
   },
   "outputs": [
    {
     "name": "stdout",
     "output_type": "stream",
     "text": [
      "\r\n",
      "MetaGraphDef with tag-set: 'serve' contains the following SignatureDefs:\r\n",
      "\r\n",
      "signature_def['serving_default']:\r\n",
      "  The given SavedModel SignatureDef contains the following input(s):\r\n",
      "    inputs['inputs'] tensor_info:\r\n",
      "        dtype: DT_FLOAT\r\n",
      "        shape: (-1, 256, 256, 3)\r\n",
      "        name: input_1:0\r\n",
      "  The given SavedModel SignatureDef contains the following output(s):\r\n",
      "    outputs['score'] tensor_info:\r\n",
      "        dtype: DT_FLOAT\r\n",
      "        shape: (-1, 256, 256, 1)\r\n",
      "        name: conv2d_19/Sigmoid:0\r\n",
      "  Method name is: tensorflow/serving/predict\r\n"
     ]
    }
   ],
   "source": [
    "import os\n",
    "\n",
    "model_path = os.path.join(export_path, \"Servo/1\")\n",
    "!saved_model_cli show --all --dir {model_path}"
   ]
  },
  {
   "cell_type": "markdown",
   "metadata": {
    "id": "5n6jhmSg-uxc"
   },
   "source": [
    "Next we need to create a model archive file containing the exported model."
   ]
  },
  {
   "cell_type": "markdown",
   "metadata": {
    "id": "z9kutpTP-uxd"
   },
   "source": [
    "## Upload the model archive file to S3\n",
    "\n",
    "We now have a suitable model archive ready in our notebook. We need to upload it to S3 before we can create a SageMaker Model that. We'll use the SageMaker Python SDK to handle the upload."
   ]
  },
  {
   "cell_type": "code",
   "execution_count": 10,
   "metadata": {
    "id": "TocwZSw4-uxd"
   },
   "outputs": [
    {
     "name": "stdout",
     "output_type": "stream",
     "text": [
      "model uploaded to: s3://sagemaker-us-west-2-230755935769/model/unet-medical.tar.gz\n"
     ]
    }
   ],
   "source": [
    "model_data = Session().upload_data(path=model_archive_name, key_prefix=\"model\")\n",
    "print(\"model uploaded to: {}\".format(model_data))"
   ]
  },
  {
   "cell_type": "markdown",
   "metadata": {
    "id": "AuDTHa9v-uxd"
   },
   "source": [
    "## Create a SageMaker Model and Endpoint\n",
    "\n",
    "Now that the model archive is in S3, we can create an unoptimized Model and deploy it to an \n",
    "Endpoint."
   ]
  },
  {
   "cell_type": "code",
   "execution_count": 11,
   "metadata": {
    "id": "J3LQzaj5-uxd"
   },
   "outputs": [],
   "source": [
    "from sagemaker.tensorflow.serving import Model\n",
    "\n",
    "instance_type = \"ml.c4.xlarge\"\n",
    "framework = \"TENSORFLOW\"\n",
    "framework_version = \"1.15.3\""
   ]
  },
  {
   "cell_type": "code",
   "execution_count": 12,
   "metadata": {},
   "outputs": [
    {
     "name": "stderr",
     "output_type": "stream",
     "text": [
      "The class sagemaker.tensorflow.serving.Model has been renamed in sagemaker>=2.\n",
      "See: https://sagemaker.readthedocs.io/en/stable/v2.html for details.\n",
      "update_endpoint is a no-op in sagemaker>=2.\n",
      "See: https://sagemaker.readthedocs.io/en/stable/v2.html for details.\n"
     ]
    },
    {
     "name": "stdout",
     "output_type": "stream",
     "text": [
      "-----!"
     ]
    }
   ],
   "source": [
    "sm_model = Model(model_data=model_data, framework_version=framework_version, role=role)\n",
    "uncompiled_predictor = sm_model.deploy(initial_instance_count=1, instance_type=instance_type)"
   ]
  },
  {
   "cell_type": "markdown",
   "metadata": {
    "id": "ovafH7uH-uxe"
   },
   "source": [
    "## Make predictions using the endpoint\n",
    "\n",
    "The endpoint is now up and running, and ready to handle inference requests. The `deploy` call above returned a `predictor` object. The `predict` method of this object handles sending requests to the endpoint. It also automatically handles JSON serialization of our input arguments, and JSON deserialization of the prediction results.\n",
    "\n",
    "We'll use this sample image:\n",
    "\n",
    "<img src=\"https://sagemaker-neo-artifacts.s3.us-east-2.amazonaws.com/cell-4.png\" align=\"left\" style=\"padding: 8px;\">"
   ]
  },
  {
   "cell_type": "code",
   "execution_count": 13,
   "metadata": {},
   "outputs": [],
   "source": [
    "sample_img_fname = \"cell-4.png\"\n",
    "sample_img_url = \"https://sagemaker-neo-artifacts.s3.us-east-2.amazonaws.com/{}\".format(\n",
    "    sample_img_fname\n",
    ")"
   ]
  },
  {
   "cell_type": "code",
   "execution_count": 14,
   "metadata": {},
   "outputs": [
    {
     "name": "stdout",
     "output_type": "stream",
     "text": [
      "--2021-11-08 15:03:27--  https://sagemaker-neo-artifacts.s3.us-east-2.amazonaws.com/cell-4.png\n",
      "Resolving sagemaker-neo-artifacts.s3.us-east-2.amazonaws.com (sagemaker-neo-artifacts.s3.us-east-2.amazonaws.com)... 52.219.102.202\n",
      "Connecting to sagemaker-neo-artifacts.s3.us-east-2.amazonaws.com (sagemaker-neo-artifacts.s3.us-east-2.amazonaws.com)|52.219.102.202|:443... connected.\n",
      "HTTP request sent, awaiting response... 200 OK\n",
      "Length: 45936 (45K) [image/png]\n",
      "Saving to: ‘cell-4.png’\n",
      "\n",
      "100%[======================================>] 45,936      --.-K/s   in 0.05s   \n",
      "\n",
      "2021-11-08 15:03:28 (948 KB/s) - ‘cell-4.png’ saved [45936/45936]\n",
      "\n"
     ]
    }
   ],
   "source": [
    "!wget {sample_img_url}"
   ]
  },
  {
   "cell_type": "code",
   "execution_count": 15,
   "metadata": {
    "id": "uBkEWKrP-uxe"
   },
   "outputs": [],
   "source": [
    "# read the image file into a tensor (numpy array)\n",
    "import cv2\n",
    "\n",
    "image = cv2.imread(sample_img_fname)\n",
    "original_shape = image.shape"
   ]
  },
  {
   "cell_type": "code",
   "execution_count": 16,
   "metadata": {},
   "outputs": [
    {
     "data": {
      "text/plain": [
       "<Figure size 640x480 with 1 Axes>"
      ]
     },
     "metadata": {},
     "output_type": "display_data"
    }
   ],
   "source": [
    "import matplotlib.pyplot as plt\n",
    "\n",
    "plt.imshow(image, cmap=\"gray\", interpolation=\"none\")\n",
    "plt.show()"
   ]
  },
  {
   "cell_type": "code",
   "execution_count": 17,
   "metadata": {},
   "outputs": [],
   "source": [
    "image = np.resize(image, (256, 256, 3))\n",
    "image = cv2.cvtColor(image, cv2.COLOR_BGR2RGB)\n",
    "image = np.asarray(image)\n",
    "image = np.expand_dims(image, axis=0)"
   ]
  },
  {
   "cell_type": "code",
   "execution_count": 18,
   "metadata": {},
   "outputs": [
    {
     "name": "stdout",
     "output_type": "stream",
     "text": [
      "Prediction took 1.16 seconds\n"
     ]
    }
   ],
   "source": [
    "start_time = time.time()\n",
    "\n",
    "# get a prediction from the endpoint\n",
    "# the image input is automatically converted to a JSON request.\n",
    "# the JSON response from the endpoint is returned as a python dict\n",
    "result = uncompiled_predictor.predict(image)\n",
    "print(\"Prediction took %.2f seconds\" % (time.time() - start_time))"
   ]
  },
  {
   "cell_type": "code",
   "execution_count": 19,
   "metadata": {},
   "outputs": [
    {
     "data": {
      "image/png": "[encoded data removed]",
      "text/plain": [
       "<Figure size 432x288 with 1 Axes>"
      ]
     },
     "metadata": {
      "needs_background": "light"
     },
     "output_type": "display_data"
    }
   ],
   "source": [
    "# show the predicted segmentation image\n",
    "\n",
    "cutoff = 0.4\n",
    "segmentation_img = np.squeeze(np.asarray(result[\"predictions\"])) > cutoff\n",
    "segmentation_img = segmentation_img.astype(np.uint8)\n",
    "segmentation_img = np.resize(segmentation_img, (original_shape[0], original_shape[1]))\n",
    "plt.imshow(segmentation_img, \"gray\")\n",
    "plt.show()"
   ]
  },
  {
   "cell_type": "markdown",
   "metadata": {},
   "source": [
    "## Uncompiled Predictor Performance"
   ]
  },
  {
   "cell_type": "code",
   "execution_count": 20,
   "metadata": {},
   "outputs": [
    {
     "name": "stdout",
     "output_type": "stream",
     "text": [
      "\n",
      "Predictions for un-compiled model: \n",
      "\n",
      "\n",
      "P95: 538.2373929023742 ms\n",
      "\n",
      "P90: 505.3648710250855 ms\n",
      "\n",
      "P50: 397.51875400543213 ms\n",
      "\n",
      "Average: 413.6315083503723 ms\n",
      "\n"
     ]
    }
   ],
   "source": [
    "shape_input = np.random.rand(1, 256, 256, 3)\n",
    "uncompiled_results = []\n",
    "\n",
    "for _ in range(100):\n",
    "    start = time.time()\n",
    "    uncompiled_predictor.predict(image)\n",
    "    uncompiled_results.append((time.time() - start) * 1000)\n",
    "\n",
    "print(\"\\nPredictions for un-compiled model: \\n\")\n",
    "print(\"\\nP95: \" + str(np.percentile(uncompiled_results, 95)) + \" ms\\n\")\n",
    "print(\"P90: \" + str(np.percentile(uncompiled_results, 90)) + \" ms\\n\")\n",
    "print(\"P50: \" + str(np.percentile(uncompiled_results, 50)) + \" ms\\n\")\n",
    "print(\"Average: \" + str(np.average(uncompiled_results)) + \" ms\\n\")"
   ]
  },
  {
   "cell_type": "markdown",
   "metadata": {},
   "source": [
    "## Compile model using SageMaker Neo"
   ]
  },
  {
   "cell_type": "code",
   "execution_count": 23,
   "metadata": {},
   "outputs": [],
   "source": [
    "# Replace the value of data_shape below and\n",
    "# specify the name & shape of the expected inputs for your trained model in JSON\n",
    "# Note that -1 is replaced with 1 for the batch size placeholder\n",
    "data_shape = {\"inputs\": [1, 224, 224, 3]}\n",
    "\n",
    "instance_family = \"ml_c4\"\n",
    "\n",
    "compilation_job_name = name_from_base(\"medical-tf-Neo\")\n",
    "# output path for compiled model artifact\n",
    "compiled_model_path = \"s3://{}/{}/output\".format(bucket, compilation_job_name)"
   ]
  },
  {
   "cell_type": "code",
   "execution_count": 24,
   "metadata": {},
   "outputs": [
    {
     "name": "stdout",
     "output_type": "stream",
     "text": [
      "?????????????????????????.................................................!"
     ]
    }
   ],
   "source": [
    "optimized_estimator = sm_model.compile(\n",
    "    target_instance_family=instance_family,\n",
    "    input_shape=data_shape,\n",
    "    job_name=compilation_job_name,\n",
    "    role=role,\n",
    "    framework=framework.lower(),\n",
    "    framework_version=framework_version,\n",
    "    output_path=compiled_model_path,\n",
    ")"
   ]
  },
  {
   "cell_type": "markdown",
   "metadata": {},
   "source": [
    "## Create Optimized Endpoint"
   ]
  },
  {
   "cell_type": "code",
   "execution_count": 25,
   "metadata": {},
   "outputs": [
    {
     "name": "stderr",
     "output_type": "stream",
     "text": [
      "update_endpoint is a no-op in sagemaker>=2.\n",
      "See: https://sagemaker.readthedocs.io/en/stable/v2.html for details.\n"
     ]
    },
    {
     "name": "stdout",
     "output_type": "stream",
     "text": [
      "-----!"
     ]
    }
   ],
   "source": [
    "optimized_predictor = optimized_estimator.deploy(\n",
    "    initial_instance_count=1, instance_type=instance_type\n",
    ")"
   ]
  },
  {
   "cell_type": "code",
   "execution_count": 26,
   "metadata": {},
   "outputs": [
    {
     "name": "stdout",
     "output_type": "stream",
     "text": [
      "Prediction took 0.81 seconds\n"
     ]
    }
   ],
   "source": [
    "start_time = time.time()\n",
    "\n",
    "# get a prediction from the endpoint\n",
    "# the image input is automatically converted to a JSON request.\n",
    "# the JSON response from the endpoint is returned as a python dict\n",
    "result = optimized_predictor.predict(image)\n",
    "print(\"Prediction took %.2f seconds\" % (time.time() - start_time))"
   ]
  },
  {
   "cell_type": "markdown",
   "metadata": {},
   "source": [
    "## Compiled Predictor Performance"
   ]
  },
  {
   "cell_type": "code",
   "execution_count": 27,
   "metadata": {},
   "outputs": [
    {
     "name": "stdout",
     "output_type": "stream",
     "text": [
      "\n",
      "Predictions for compiled model: \n",
      "\n",
      "\n",
      "P95: 394.85707283020014 ms\n",
      "\n",
      "P90: 373.90453815460205 ms\n",
      "\n",
      "P50: 341.60518646240234 ms\n",
      "\n",
      "Average: 337.3559617996216 ms\n",
      "\n"
     ]
    }
   ],
   "source": [
    "compiled_results = []\n",
    "test_input = {\"instances\": np.asarray(shape_input).tolist()}\n",
    "# Warmup inference.\n",
    "optimized_predictor.predict(image)\n",
    "# Inferencing 100 times.\n",
    "for _ in range(100):\n",
    "    start = time.time()\n",
    "    optimized_predictor.predict(image)\n",
    "    compiled_results.append((time.time() - start) * 1000)\n",
    "\n",
    "print(\"\\nPredictions for compiled model: \\n\")\n",
    "print(\"\\nP95: \" + str(np.percentile(compiled_results, 95)) + \" ms\\n\")\n",
    "print(\"P90: \" + str(np.percentile(compiled_results, 90)) + \" ms\\n\")\n",
    "print(\"P50: \" + str(np.percentile(compiled_results, 50)) + \" ms\\n\")\n",
    "print(\"Average: \" + str(np.average(compiled_results)) + \" ms\\n\")"
   ]
  },
  {
   "cell_type": "markdown",
   "metadata": {},
   "source": [
    "## Performance Comparison"
   ]
  },
  {
   "cell_type": "markdown",
   "metadata": {},
   "source": [
    "Here we compare inference speed up provided by SageMaker Neo. P90 is 90th percentile latency. We add this because it represents the tail of the latency distribution (worst case). More information on latency percentiles [here](https://blog.bramp.net/post/2018/01/16/measuring-percentile-latency/). "
   ]
  },
  {
   "cell_type": "code",
   "execution_count": 28,
   "metadata": {},
   "outputs": [
    {
     "name": "stdout",
     "output_type": "stream",
     "text": [
      "P90 Speedup: 1.35\n",
      "P50 Speedup: 1.16\n",
      "Average Speedup: 1.23\n"
     ]
    }
   ],
   "source": [
    "p90 = np.percentile(uncompiled_results, 90) / np.percentile(compiled_results, 90)\n",
    "p50 = np.percentile(uncompiled_results, 50) / np.percentile(compiled_results, 50)\n",
    "avg = np.average(uncompiled_results) / np.average(compiled_results)\n",
    "\n",
    "print(\"P90 Speedup: %.2f\" % p90)\n",
    "print(\"P50 Speedup: %.2f\" % p50)\n",
    "print(\"Average Speedup: %.2f\" % avg)"
   ]
  },
  {
   "cell_type": "markdown",
   "metadata": {},
   "source": [
    "## Setup Elastic Inference Endpoint "
   ]
  },
  {
   "cell_type": "code",
   "execution_count": 33,
   "metadata": {},
   "outputs": [
    {
     "name": "stderr",
     "output_type": "stream",
     "text": [
      "update_endpoint is a no-op in sagemaker>=2.\n",
      "See: https://sagemaker.readthedocs.io/en/stable/v2.html for details.\n"
     ]
    },
    {
     "name": "stdout",
     "output_type": "stream",
     "text": [
      "-----------!"
     ]
    }
   ],
   "source": [
    "predictor_ei = sm_model.deploy(initial_instance_count=1, \n",
    "                        instance_type='ml.c4.xlarge',\n",
    "                            accelerator_type='ml.eia2.medium')"
   ]
  },
  {
   "cell_type": "code",
   "execution_count": 34,
   "metadata": {},
   "outputs": [
    {
     "name": "stdout",
     "output_type": "stream",
     "text": [
      "Prediction took 1.07 seconds\n"
     ]
    }
   ],
   "source": [
    "start_time = time.time()\n",
    "\n",
    "# get a prediction from the endpoint\n",
    "# the image input is automatically converted to a JSON request.\n",
    "# the JSON response from the endpoint is returned as a python dict\n",
    "result = predictor_ei.predict(image)\n",
    "print(\"Prediction took %.2f seconds\" % (time.time() - start_time))"
   ]
  },
  {
   "cell_type": "code",
   "execution_count": 37,
   "metadata": {},
   "outputs": [
    {
     "name": "stdout",
     "output_type": "stream",
     "text": [
      "\n",
      "Predictions for compiled model: \n",
      "\n",
      "\n",
      "P95: 373.9136576652527 ms\n",
      "\n",
      "P90: 359.7217321395874 ms\n",
      "\n",
      "P50: 335.57236194610596 ms\n",
      "\n",
      "Average: 328.0187797546387 ms\n",
      "\n"
     ]
    }
   ],
   "source": [
    "ei_results = []\n",
    "test_input = {\"instances\": np.asarray(shape_input).tolist()}\n",
    "# Warmup inference.\n",
    "optimized_predictor.predict(image)\n",
    "# Inferencing 100 times.\n",
    "for _ in range(100):\n",
    "    start = time.time()\n",
    "    predictor_ei.predict(image)\n",
    "    ei_results.append((time.time() - start) * 1000)\n",
    "\n",
    "print(\"\\nPredictions for compiled model: \\n\")\n",
    "print(\"\\nP95: \" + str(np.percentile(ei_results, 95)) + \" ms\\n\")\n",
    "print(\"P90: \" + str(np.percentile(ei_results, 90)) + \" ms\\n\")\n",
    "print(\"P50: \" + str(np.percentile(ei_results, 50)) + \" ms\\n\")\n",
    "print(\"Average: \" + str(np.average(ei_results)) + \" ms\\n\")"
   ]
  },
  {
   "cell_type": "markdown",
   "metadata": {},
   "source": [
    "### Performance Comparison "
   ]
  },
  {
   "cell_type": "markdown",
   "metadata": {},
   "source": [
    "we can compare with increased performance between the vanilla predictor and the one equipped with elastic inference. The design decision could reference to the usage pattern and the price structure of [elastic inference](https://aws.amazon.com/machine-learning/elastic-inference/pricing/). Or plot a graph like what in this [blog](https://aws.amazon.com/blogs/machine-learning/increasing-performance-and-reducing-the-cost-of-mxnet-inference-using-amazon-sagemaker-neo-and-amazon-elastic-inference/) "
   ]
  },
  {
   "cell_type": "code",
   "execution_count": 36,
   "metadata": {},
   "outputs": [
    {
     "name": "stdout",
     "output_type": "stream",
     "text": [
      "P90 Speedup: 1.36\n",
      "P50 Speedup: 1.14\n",
      "Average Speedup: 1.23\n"
     ]
    }
   ],
   "source": [
    "p90 = np.percentile(uncompiled_results, 90) / np.percentile(ei_results, 90)\n",
    "p50 = np.percentile(uncompiled_results, 50) / np.percentile(ei_results, 50)\n",
    "avg = np.average(uncompiled_results) / np.average(ei_results)\n",
    "\n",
    "print(\"P90 Speedup: %.2f\" % p90)\n",
    "print(\"P50 Speedup: %.2f\" % p50)\n",
    "print(\"Average Speedup: %.2f\" % avg)"
   ]
  },
  {
   "cell_type": "markdown",
   "metadata": {
    "id": "WK615wgU-uxg"
   },
   "source": [
    "## Additional Information\n",
    "\n",
    "## Cleaning up\n",
    "\n",
    "To avoid incurring charges to your AWS account for the resources used in this tutorial, you need to delete the SageMaker Endpoint."
   ]
  },
  {
   "cell_type": "code",
   "execution_count": null,
   "metadata": {
    "id": "kTSKcyHW-uxg"
   },
   "outputs": [],
   "source": [
    "uncompiled_predictor.delete_endpoint()"
   ]
  },
  {
   "cell_type": "code",
   "execution_count": null,
   "metadata": {},
   "outputs": [],
   "source": [
    "optimized_predictor.delete_endpoint()"
   ]
  }
 ],
 "metadata": {
  "colab": {
   "name": "sagemaker-neo-tf-hub-example.ipynb",
   "provenance": []
  },
  "kernelspec": {
   "display_name": "conda_python3",
   "language": "python",
   "name": "conda_python3"
  },
  "language_info": {
   "codemirror_mode": {
    "name": "ipython",
    "version": 3
   },
   "file_extension": ".py",
   "mimetype": "text/x-python",
   "name": "python",
   "nbconvert_exporter": "python",
   "pygments_lexer": "ipython3",
   "version": "3.6.13"
  }
 },
 "nbformat": 4,
 "nbformat_minor": 4
}
